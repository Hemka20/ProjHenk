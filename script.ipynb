{
 "cells": [
  {
   "cell_type": "code",
   "execution_count": null,
   "metadata": {},
   "outputs": [],
   "source": [
    "import pandas as pd\n",
    "import re"
   ]
  },
  {
   "cell_type": "code",
   "execution_count": null,
   "metadata": {},
   "outputs": [],
   "source": [
    "zomato_data = 'restaurants1\\zomato.csv'\n",
    "yelp_data = 'restaurants1\\yelp.csv'"
   ]
  },
  {
   "cell_type": "code",
   "execution_count": null,
   "metadata": {},
   "outputs": [],
   "source": [
    "zomato_df = pd.read_csv(zomato_data)\n",
    "yelp_df = pd.read_csv(yelp_data)"
   ]
  },
  {
   "cell_type": "code",
   "execution_count": null,
   "metadata": {},
   "outputs": [],
   "source": [
    "###  Remove duplicate entries (Places with the same values in the NAME and ADDRESS fields)\n",
    "print(len(zomato_df), 'before removing zomato duplicates')\n",
    "zomato_df.drop_duplicates(['NAME', 'ADDRESS'], inplace=True)\n",
    "print(len(zomato_df), 'before removing zomato duplicates')\n",
    "print(len(yelp_df), 'before removing yelp duplicates')\n",
    "yelp_df.drop_duplicates(['NAME', 'ADDRESS'], inplace=True)\n",
    "print(len(yelp_df), 'before removing yelp duplicates')"
   ]
  },
  {
   "cell_type": "code",
   "execution_count": null,
   "metadata": {},
   "outputs": [],
   "source": [
    "###  Remove restaurants with \"review of\" in their name\n",
    "\n",
    "zomato_df[~zomato_df['NAME'].str.contains('review of', case=False)]\n",
    "yelp_df[~yelp_df['NAME'].str.contains('review of', case=False)]"
   ]
  },
  {
   "cell_type": "code",
   "execution_count": null,
   "metadata": {},
   "outputs": [],
   "source": [
    "### Fix special characters"
   ]
  },
  {
   "cell_type": "code",
   "execution_count": null,
   "metadata": {},
   "outputs": [],
   "source": [
    "### Remove entries with numbers instead of names"
   ]
  },
  {
   "cell_type": "code",
   "execution_count": null,
   "metadata": {},
   "outputs": [],
   "source": [
    "### Fix places containing a '-' in their name only contain characters before the '-' sign as name value\n",
    "\n",
    "zomato_df['NAME'] = zomato_df['NAME'].str.split('-').str[0]\n",
    "yelp_df['NAME'] = yelp_df['NAME'].str.split('-').str[0]"
   ]
  },
  {
   "cell_type": "code",
   "execution_count": null,
   "metadata": {},
   "outputs": [],
   "source": [
    "###  Remove places sharing the same phone number. \n",
    "\n",
    "zomato_df.drop_duplicates(['PHONENUMBER'], inplace=True)\n",
    "yelp_df.drop_duplicates(['PHONENUMBER'], inplace=True)"
   ]
  },
  {
   "cell_type": "code",
   "execution_count": null,
   "metadata": {},
   "outputs": [],
   "source": [
    "def clean_phone_number(phone_number):\n",
    "    pattern = r'[^\\d+]'\n",
    "    cleaned_number = re.sub(pattern, '', phone_number)\n",
    "\n",
    "    return cleaned_number\n",
    "\n",
    "zomato_df['PHONENUMBER'] = [clean_phone_number(number) for number in zomato_df['PHONENUMBER']]\n",
    "yelp_df['PHONENUMBER'] = [clean_phone_number(number) for number in yelp_df['PHONENUMBER']]"
   ]
  },
  {
   "cell_type": "code",
   "execution_count": null,
   "metadata": {},
   "outputs": [],
   "source": [
    "###  Fix NaN values in ratings.\n",
    "\n",
    "mean_rating = zomato_df['RATING'].mean()\n",
    "zomato_df['RATING'] = zomato_df.apply(lambda row: 0 if row['NO_OF_REVIEWS'] == 0 else mean_rating if pd.isna(row['RATING']) else row['RATING'], axis=1)\n",
    "\n",
    "mean_rating = yelp_df['RATING'].mean()\n",
    "yelp_df['RATING'] = yelp_df.apply(lambda row: 0 if row['NO_OF_REVIEWS'] == 0 else mean_rating if pd.isna(row['RATING']) else row['RATING'], axis=1)\n",
    "\n",
    "yelp_df"
   ]
  },
  {
   "cell_type": "code",
   "execution_count": null,
   "metadata": {},
   "outputs": [],
   "source": [
    "### Trim restaurant names.\n",
    " \n",
    "zomato_df['NAME'] = zomato_df['NAME'].str.strip()\n",
    "yelp_df['NAME'] = yelp_df['NAME'].str.strip()"
   ]
  },
  {
   "cell_type": "code",
   "execution_count": null,
   "metadata": {},
   "outputs": [],
   "source": [
    "split_address = zomato_df['ADDRESS'].str.rsplit(', ', n=2, expand=True)\n",
    "zomato_df['CITY'] = split_address[1]\n",
    "zomato_df['STATE'] = split_address[2]\n",
    "\n",
    "split_address = yelp_df['ADDRESS'].str.rsplit(', ', n=3, expand=True)\n",
    "yelp_df['CITY'] = split_address[1]\n",
    "yelp_df[['STATE', 'ZIP CODE']] = split_address[2].str.rsplit(' ', n=2, expand=True)"
   ]
  },
  {
   "cell_type": "code",
   "execution_count": null,
   "metadata": {},
   "outputs": [],
   "source": [
    "city_frequency_zomato = zomato_df['CITY'].value_counts()\n",
    "city_frequency_yelp = yelp_df['CITY'].value_counts()\n",
    "\n",
    "zomato_df['CITY_FREQUENCY'] = zomato_df['CITY'].map(city_frequency_zomato)\n",
    "yelp_df['CITY_FREQUENCY'] = yelp_df['CITY'].map(city_frequency_yelp)"
   ]
  },
  {
   "cell_type": "code",
   "execution_count": null,
   "metadata": {},
   "outputs": [],
   "source": [
    "# Identify popular restaurant chains based on the name\n",
    "\n",
    "chain_threshold = 3  # Set a threshold for considering a restaurant a chain\n",
    "zomato_df['IS_CHAIN'] = zomato_df['NAME'].map(zomato_df['NAME'].value_counts()) > chain_threshold\n",
    "yelp_df['IS_CHAIN'] = yelp_df['NAME'].map(yelp_df['NAME'].value_counts()) > chain_threshold\n",
    "\n",
    "zomato_df[zomato_df['IS_CHAIN']]"
   ]
  },
  {
   "cell_type": "code",
   "execution_count": null,
   "metadata": {},
   "outputs": [],
   "source": []
  }
 ],
 "metadata": {
  "kernelspec": {
   "display_name": "Python 3",
   "language": "python",
   "name": "python3"
  },
  "language_info": {
   "codemirror_mode": {
    "name": "ipython",
    "version": 3
   },
   "file_extension": ".py",
   "mimetype": "text/x-python",
   "name": "python",
   "nbconvert_exporter": "python",
   "pygments_lexer": "ipython3",
   "version": "3.11.4"
  }
 },
 "nbformat": 4,
 "nbformat_minor": 2
}
